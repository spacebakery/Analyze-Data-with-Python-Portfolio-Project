{
 "cells": [
  {
   "cell_type": "markdown",
   "metadata": {},
   "source": [
    "# Analyzing Endangered Species in US National Parks - Data Science Portfolio Project\n",
    "\n",
    "This project explores the conservation of species in National Parks. We'll look at data on the top 10 most visited US National Parks in 2022. The dataset is provided by the National Park Service via their [NPSecies Database](https://irma.nps.gov/NPSpecies/). We'll use Python to analyze the dataset and use the pandas and SciPy libraries to answer the following questions:\n",
    "\n",
    "- How does conservation status differ across national parks?\n",
    "- Are mammal species more likely to be protected than non-mammal species?\n",
    "- Are native species more likely to be protected than non-native species?\n",
    "- Are there any abundant species that are also classified as threatened or endangered?"
   ]
  },
  {
   "cell_type": "markdown",
   "metadata": {},
   "source": [
    "### Import Libraries"
   ]
  },
  {
   "cell_type": "code",
   "execution_count": 1,
   "metadata": {},
   "outputs": [],
   "source": [
    "import pandas as pd\n",
    "import numpy as np\n",
    "\n",
    "from matplotlib import pyplot as plt\n",
    "%matplotlib inline"
   ]
  },
  {
   "cell_type": "markdown",
   "metadata": {},
   "source": [
    "### Load and Inspect Data"
   ]
  },
  {
   "cell_type": "code",
   "execution_count": 2,
   "metadata": {},
   "outputs": [
    {
     "name": "stdout",
     "output_type": "stream",
     "text": [
      "<class 'pandas.core.frame.DataFrame'>\n",
      "RangeIndex: 51706 entries, 0 to 51705\n",
      "Data columns (total 10 columns):\n",
      " #   Column               Non-Null Count  Dtype  \n",
      "---  ------               --------------  -----  \n",
      " 0   Scientific Name      51706 non-null  object \n",
      " 1   Common Names         26107 non-null  object \n",
      " 2   Order                50908 non-null  object \n",
      " 3   Family               50869 non-null  object \n",
      " 4   Category             51706 non-null  object \n",
      " 5   Park Name            51706 non-null  object \n",
      " 6   Nativeness           48541 non-null  object \n",
      " 7   Abundance            38733 non-null  object \n",
      " 8   Observations         9097 non-null   float64\n",
      " 9   Conservation Status  51706 non-null  object \n",
      "dtypes: float64(1), object(9)\n",
      "memory usage: 3.9+ MB\n",
      "None\n"
     ]
    },
    {
     "data": {
      "text/html": [
       "<div>\n",
       "<style scoped>\n",
       "    .dataframe tbody tr th:only-of-type {\n",
       "        vertical-align: middle;\n",
       "    }\n",
       "\n",
       "    .dataframe tbody tr th {\n",
       "        vertical-align: top;\n",
       "    }\n",
       "\n",
       "    .dataframe thead th {\n",
       "        text-align: right;\n",
       "    }\n",
       "</style>\n",
       "<table border=\"1\" class=\"dataframe\">\n",
       "  <thead>\n",
       "    <tr style=\"text-align: right;\">\n",
       "      <th></th>\n",
       "      <th>Scientific Name</th>\n",
       "      <th>Common Names</th>\n",
       "      <th>Order</th>\n",
       "      <th>Family</th>\n",
       "      <th>Category</th>\n",
       "      <th>Park Name</th>\n",
       "      <th>Nativeness</th>\n",
       "      <th>Abundance</th>\n",
       "      <th>Observations</th>\n",
       "      <th>Conservation Status</th>\n",
       "    </tr>\n",
       "  </thead>\n",
       "  <tbody>\n",
       "    <tr>\n",
       "      <th>0</th>\n",
       "      <td>Alces alces</td>\n",
       "      <td>Moose</td>\n",
       "      <td>Artiodactyla</td>\n",
       "      <td>Cervidae</td>\n",
       "      <td>Mammal</td>\n",
       "      <td>Acadia National Park</td>\n",
       "      <td>Native</td>\n",
       "      <td>Rare</td>\n",
       "      <td>1.0</td>\n",
       "      <td>Least Concern</td>\n",
       "    </tr>\n",
       "    <tr>\n",
       "      <th>1</th>\n",
       "      <td>Odocoileus virginianus</td>\n",
       "      <td>Northern White-tailed Deer, Virginia Deer, Whi...</td>\n",
       "      <td>Artiodactyla</td>\n",
       "      <td>Cervidae</td>\n",
       "      <td>Mammal</td>\n",
       "      <td>Acadia National Park</td>\n",
       "      <td>Native</td>\n",
       "      <td>Abundant</td>\n",
       "      <td>NaN</td>\n",
       "      <td>Least Concern</td>\n",
       "    </tr>\n",
       "    <tr>\n",
       "      <th>2</th>\n",
       "      <td>Canis latrans</td>\n",
       "      <td>Coyote, Eastern Coyote</td>\n",
       "      <td>Carnivora</td>\n",
       "      <td>Canidae</td>\n",
       "      <td>Mammal</td>\n",
       "      <td>Acadia National Park</td>\n",
       "      <td>Non-native</td>\n",
       "      <td>Common</td>\n",
       "      <td>1.0</td>\n",
       "      <td>Species of Concern</td>\n",
       "    </tr>\n",
       "    <tr>\n",
       "      <th>3</th>\n",
       "      <td>Canis lupus</td>\n",
       "      <td>Eastern Timber Wolf, Gray Wolf, Timber Wolf</td>\n",
       "      <td>Carnivora</td>\n",
       "      <td>Canidae</td>\n",
       "      <td>Mammal</td>\n",
       "      <td>Acadia National Park</td>\n",
       "      <td>Native</td>\n",
       "      <td>NaN</td>\n",
       "      <td>NaN</td>\n",
       "      <td>Endangered</td>\n",
       "    </tr>\n",
       "    <tr>\n",
       "      <th>4</th>\n",
       "      <td>Vulpes vulpes</td>\n",
       "      <td>Black Fox, Cross Fox, Eastern Red Fox, Fox, Re...</td>\n",
       "      <td>Carnivora</td>\n",
       "      <td>Canidae</td>\n",
       "      <td>Mammal</td>\n",
       "      <td>Acadia National Park</td>\n",
       "      <td>Unknown</td>\n",
       "      <td>Common</td>\n",
       "      <td>NaN</td>\n",
       "      <td>Least Concern</td>\n",
       "    </tr>\n",
       "  </tbody>\n",
       "</table>\n",
       "</div>"
      ],
      "text/plain": [
       "          Scientific Name                                       Common Names  \\\n",
       "0             Alces alces                                              Moose   \n",
       "1  Odocoileus virginianus  Northern White-tailed Deer, Virginia Deer, Whi...   \n",
       "2           Canis latrans                             Coyote, Eastern Coyote   \n",
       "3             Canis lupus        Eastern Timber Wolf, Gray Wolf, Timber Wolf   \n",
       "4           Vulpes vulpes  Black Fox, Cross Fox, Eastern Red Fox, Fox, Re...   \n",
       "\n",
       "          Order    Family Category             Park Name  Nativeness  \\\n",
       "0  Artiodactyla  Cervidae   Mammal  Acadia National Park      Native   \n",
       "1  Artiodactyla  Cervidae   Mammal  Acadia National Park      Native   \n",
       "2     Carnivora   Canidae   Mammal  Acadia National Park  Non-native   \n",
       "3     Carnivora   Canidae   Mammal  Acadia National Park      Native   \n",
       "4     Carnivora   Canidae   Mammal  Acadia National Park     Unknown   \n",
       "\n",
       "  Abundance  Observations Conservation Status  \n",
       "0      Rare           1.0       Least Concern  \n",
       "1  Abundant           NaN       Least Concern  \n",
       "2    Common           1.0  Species of Concern  \n",
       "3       NaN           NaN          Endangered  \n",
       "4    Common           NaN       Least Concern  "
      ]
     },
     "execution_count": 2,
     "metadata": {},
     "output_type": "execute_result"
    }
   ],
   "source": [
    "species = pd.read_csv('datasets/NPS_species_info.csv')\n",
    "print(species.info())\n",
    "species.head()"
   ]
  },
  {
   "cell_type": "markdown",
   "metadata": {},
   "source": [
    "The dataset contains 51,706 rows and 10 columns containing information about the species. It looks like all columns except  `Scientific Name`, `Category`, `Park Name`, and `Conservation Status` columns have some missing values.\n",
    "\n",
    "Here's a quick summary of the columns:\n",
    "\n",
    "- **Scientific Name**: the name of the species according to scientific nomenclature\n",
    "- **Common Names**: common names or aliases the species is known by the general public\n",
    "- **Order**: the taxonomic order the species belongs to\n",
    "- **Family**: the taxonomic family the species belongs to\n",
    "- **Category**: indicates the category or classification of the species, for example `Mammal`\n",
    "- **Park Name**: the name of the national park the species was observed in\n",
    "- **Nativeness**: indicates whether the species is native or non-native to the national park it was observed in\n",
    "- **Abundance**: describes the abundance of the species in the national park it was observed in\n",
    "- **Observations**: the number of observations or sightings used as evidence for the species occurrences\n",
    "- **Conservation Status**: provides the conservation status of the species, for example `Endangered`"
   ]
  },
  {
   "cell_type": "markdown",
   "metadata": {},
   "source": [
    "### Data Cleaning and Preparation\n",
    "\n",
    "Before we can start answering our data questions, we'll need to clean and prepare the dataset for analysis. \n",
    "\n",
    "Let's start by standardizing the text in the column names and row values by removing extra whitespaces and converting all of the text to titles."
   ]
  },
  {
   "cell_type": "code",
   "execution_count": 3,
   "metadata": {},
   "outputs": [],
   "source": [
    "def clean_df_text(df):\n",
    "    # clean the column name texts\n",
    "    df.columns = df.columns.str.strip()\n",
    "\n",
    "    # clean the row value texts\n",
    "    for column in df.columns:\n",
    "        if df[column].dtype == 'object':\n",
    "            df[column] = df[column].str.title()\n",
    "            df[column] = df[column].str.strip()\n",
    "\n",
    "    return df"
   ]
  },
  {
   "cell_type": "code",
   "execution_count": 4,
   "metadata": {},
   "outputs": [],
   "source": [
    "# Apply text cleaning function\n",
    "species = clean_df_text(species)"
   ]
  },
  {
   "cell_type": "markdown",
   "metadata": {},
   "source": [
    "For this analysis, we'll take a look at the major animal species (non-insect) in the **Amphibian**, **Bird**, **Fish**, **Mammal**, and **Reptile** categories. Let's filter the dataset for species within these categories."
   ]
  },
  {
   "cell_type": "code",
   "execution_count": 5,
   "metadata": {},
   "outputs": [
    {
     "data": {
      "text/plain": [
       "Insect                   15482\n",
       "Vascular Plant           15415\n",
       "Fungi                     5936\n",
       "Spider/Scorpion           4846\n",
       "Bird                      3161\n",
       "Non-Vascular Plant        1868\n",
       "Other Non-Vertebrates     1127\n",
       "Chromista                 1007\n",
       "Mammal                     794\n",
       "Slug/Snail                 408\n",
       "Fish                       370\n",
       "Bacteria                   342\n",
       "Protozoa                   282\n",
       "Reptile                    248\n",
       "Crab/Lobster/Shrimp        243\n",
       "Amphibian                  177\n",
       "Name: Category, dtype: int64"
      ]
     },
     "execution_count": 5,
     "metadata": {},
     "output_type": "execute_result"
    }
   ],
   "source": [
    "# Initial category counts\n",
    "species['Category'].value_counts()"
   ]
  },
  {
   "cell_type": "code",
   "execution_count": 6,
   "metadata": {},
   "outputs": [],
   "source": [
    "# Create Boolean masks for each of the categories we will investigate\n",
    "amphibian = species['Category'] == 'Amphibian'\n",
    "bird = species['Category'] == 'Bird'\n",
    "fish = species['Category'] == 'Fish'\n",
    "mammals = species['Category'] == 'Mammal'\n",
    "reptile = species['Category'] == 'Reptile'\n",
    "\n",
    "# Filter the species dataframe\n",
    "species = species[amphibian | bird | fish | mammals | reptile]"
   ]
  },
  {
   "cell_type": "code",
   "execution_count": 7,
   "metadata": {},
   "outputs": [
    {
     "data": {
      "text/plain": [
       "Bird         3161\n",
       "Mammal        794\n",
       "Fish          370\n",
       "Reptile       248\n",
       "Amphibian     177\n",
       "Name: Category, dtype: int64"
      ]
     },
     "execution_count": 7,
     "metadata": {},
     "output_type": "execute_result"
    }
   ],
   "source": [
    "# Filtered category counts\n",
    "species['Category'].value_counts()"
   ]
  },
  {
   "cell_type": "markdown",
   "metadata": {},
   "source": [
    "Next, let's take a look at the `Conservation Status` of the species in our dataset."
   ]
  },
  {
   "cell_type": "code",
   "execution_count": 8,
   "metadata": {},
   "outputs": [
    {
     "data": {
      "text/plain": [
       "Least Concern         3367\n",
       "Species Of Concern    1304\n",
       "Endangered              31\n",
       "Threatened              29\n",
       "In Recovery             19\n",
       "Name: Conservation Status, dtype: int64"
      ]
     },
     "execution_count": 8,
     "metadata": {},
     "output_type": "execute_result"
    }
   ],
   "source": [
    "species['Conservation Status'].value_counts()"
   ]
  },
  {
   "cell_type": "markdown",
   "metadata": {},
   "source": [
    "There are 5 categories in the `Conservation Status` column. The majority of species are of `Least Concern` (3367). The other categories represent concerned species that need to be protected: `Species Of Concern` (1304), `Endangered` (31), `Threatened` (29), and `In Recovery` (19). \n",
    "\n",
    "Using this information, let's create a new column `Protected` that returns `True` for species that need protection and `False` for species that are least concerning (meaning they are not at risk for extinction or at elevated risk for being endangered). "
   ]
  },
  {
   "cell_type": "code",
   "execution_count": 9,
   "metadata": {},
   "outputs": [],
   "source": [
    "species['Protected'] = species['Conservation Status'] != 'Least Concern'"
   ]
  },
  {
   "cell_type": "markdown",
   "metadata": {},
   "source": [
    "Let's now drop some columns that we won't need in our analysis to answer the data questions. \n",
    "\n",
    "**Note**: While we won't need them for the rest of this project, these columns do provide important information that might be useful in other analyses."
   ]
  },
  {
   "cell_type": "code",
   "execution_count": 10,
   "metadata": {},
   "outputs": [],
   "source": [
    "drop_cols = ['Order', 'Family', 'Observations']\n",
    "species = species.drop(drop_cols, axis=1)"
   ]
  },
  {
   "cell_type": "markdown",
   "metadata": {},
   "source": [
    "Lastly, let's preview our cleaned and prepared dataset."
   ]
  },
  {
   "cell_type": "code",
   "execution_count": 11,
   "metadata": {},
   "outputs": [
    {
     "data": {
      "text/html": [
       "<div>\n",
       "<style scoped>\n",
       "    .dataframe tbody tr th:only-of-type {\n",
       "        vertical-align: middle;\n",
       "    }\n",
       "\n",
       "    .dataframe tbody tr th {\n",
       "        vertical-align: top;\n",
       "    }\n",
       "\n",
       "    .dataframe thead th {\n",
       "        text-align: right;\n",
       "    }\n",
       "</style>\n",
       "<table border=\"1\" class=\"dataframe\">\n",
       "  <thead>\n",
       "    <tr style=\"text-align: right;\">\n",
       "      <th></th>\n",
       "      <th>Scientific Name</th>\n",
       "      <th>Common Names</th>\n",
       "      <th>Category</th>\n",
       "      <th>Park Name</th>\n",
       "      <th>Nativeness</th>\n",
       "      <th>Abundance</th>\n",
       "      <th>Conservation Status</th>\n",
       "      <th>Protected</th>\n",
       "    </tr>\n",
       "  </thead>\n",
       "  <tbody>\n",
       "    <tr>\n",
       "      <th>0</th>\n",
       "      <td>Alces Alces</td>\n",
       "      <td>Moose</td>\n",
       "      <td>Mammal</td>\n",
       "      <td>Acadia National Park</td>\n",
       "      <td>Native</td>\n",
       "      <td>Rare</td>\n",
       "      <td>Least Concern</td>\n",
       "      <td>False</td>\n",
       "    </tr>\n",
       "    <tr>\n",
       "      <th>1</th>\n",
       "      <td>Odocoileus Virginianus</td>\n",
       "      <td>Northern White-Tailed Deer, Virginia Deer, Whi...</td>\n",
       "      <td>Mammal</td>\n",
       "      <td>Acadia National Park</td>\n",
       "      <td>Native</td>\n",
       "      <td>Abundant</td>\n",
       "      <td>Least Concern</td>\n",
       "      <td>False</td>\n",
       "    </tr>\n",
       "    <tr>\n",
       "      <th>2</th>\n",
       "      <td>Canis Latrans</td>\n",
       "      <td>Coyote, Eastern Coyote</td>\n",
       "      <td>Mammal</td>\n",
       "      <td>Acadia National Park</td>\n",
       "      <td>Non-Native</td>\n",
       "      <td>Common</td>\n",
       "      <td>Species Of Concern</td>\n",
       "      <td>True</td>\n",
       "    </tr>\n",
       "    <tr>\n",
       "      <th>3</th>\n",
       "      <td>Canis Lupus</td>\n",
       "      <td>Eastern Timber Wolf, Gray Wolf, Timber Wolf</td>\n",
       "      <td>Mammal</td>\n",
       "      <td>Acadia National Park</td>\n",
       "      <td>Native</td>\n",
       "      <td>NaN</td>\n",
       "      <td>Endangered</td>\n",
       "      <td>True</td>\n",
       "    </tr>\n",
       "    <tr>\n",
       "      <th>4</th>\n",
       "      <td>Vulpes Vulpes</td>\n",
       "      <td>Black Fox, Cross Fox, Eastern Red Fox, Fox, Re...</td>\n",
       "      <td>Mammal</td>\n",
       "      <td>Acadia National Park</td>\n",
       "      <td>Unknown</td>\n",
       "      <td>Common</td>\n",
       "      <td>Least Concern</td>\n",
       "      <td>False</td>\n",
       "    </tr>\n",
       "  </tbody>\n",
       "</table>\n",
       "</div>"
      ],
      "text/plain": [
       "          Scientific Name                                       Common Names  \\\n",
       "0             Alces Alces                                              Moose   \n",
       "1  Odocoileus Virginianus  Northern White-Tailed Deer, Virginia Deer, Whi...   \n",
       "2           Canis Latrans                             Coyote, Eastern Coyote   \n",
       "3             Canis Lupus        Eastern Timber Wolf, Gray Wolf, Timber Wolf   \n",
       "4           Vulpes Vulpes  Black Fox, Cross Fox, Eastern Red Fox, Fox, Re...   \n",
       "\n",
       "  Category             Park Name  Nativeness Abundance Conservation Status  \\\n",
       "0   Mammal  Acadia National Park      Native      Rare       Least Concern   \n",
       "1   Mammal  Acadia National Park      Native  Abundant       Least Concern   \n",
       "2   Mammal  Acadia National Park  Non-Native    Common  Species Of Concern   \n",
       "3   Mammal  Acadia National Park      Native       NaN          Endangered   \n",
       "4   Mammal  Acadia National Park     Unknown    Common       Least Concern   \n",
       "\n",
       "   Protected  \n",
       "0      False  \n",
       "1      False  \n",
       "2       True  \n",
       "3       True  \n",
       "4      False  "
      ]
     },
     "execution_count": 11,
     "metadata": {},
     "output_type": "execute_result"
    }
   ],
   "source": [
    "species.head()"
   ]
  },
  {
   "cell_type": "markdown",
   "metadata": {},
   "source": [
    "### Initial Exploration\n",
    "\n",
    "Before we begin our analysis, let's perform some initial exploration to develop some sense and intuition about our dataset."
   ]
  },
  {
   "cell_type": "code",
   "execution_count": 12,
   "metadata": {},
   "outputs": [
    {
     "name": "stdout",
     "output_type": "stream",
     "text": [
      "<class 'pandas.core.frame.DataFrame'>\n",
      "Int64Index: 4750 entries, 0 to 50339\n",
      "Data columns (total 8 columns):\n",
      " #   Column               Non-Null Count  Dtype \n",
      "---  ------               --------------  ----- \n",
      " 0   Scientific Name      4750 non-null   object\n",
      " 1   Common Names         4726 non-null   object\n",
      " 2   Category             4750 non-null   object\n",
      " 3   Park Name            4750 non-null   object\n",
      " 4   Nativeness           4683 non-null   object\n",
      " 5   Abundance            3896 non-null   object\n",
      " 6   Conservation Status  4750 non-null   object\n",
      " 7   Protected            4750 non-null   bool  \n",
      "dtypes: bool(1), object(7)\n",
      "memory usage: 301.5+ KB\n"
     ]
    }
   ],
   "source": [
    "species.info()"
   ]
  },
  {
   "cell_type": "markdown",
   "metadata": {},
   "source": [
    "Filtering for the 5 animal species trimmed our dataset down to 4,750 rows.\n",
    "\n",
    "Of those rows, let's count the unique number of species in our dataset."
   ]
  },
  {
   "cell_type": "code",
   "execution_count": 13,
   "metadata": {},
   "outputs": [
    {
     "data": {
      "text/plain": [
       "1557"
      ]
     },
     "execution_count": 13,
     "metadata": {},
     "output_type": "execute_result"
    }
   ],
   "source": [
    "species['Scientific Name'].nunique()"
   ]
  },
  {
   "cell_type": "markdown",
   "metadata": {},
   "source": [
    "Interestingly, it looks like there are just 1,557 unique species of the 6,137 rows in our dataset. \n",
    "\n",
    "Our intitial intuition says this makes sense because there are many species that can live across multiple national parks. Let's investigate one species to see if this is the case."
   ]
  },
  {
   "cell_type": "code",
   "execution_count": 14,
   "metadata": {},
   "outputs": [
    {
     "data": {
      "text/html": [
       "<div>\n",
       "<style scoped>\n",
       "    .dataframe tbody tr th:only-of-type {\n",
       "        vertical-align: middle;\n",
       "    }\n",
       "\n",
       "    .dataframe tbody tr th {\n",
       "        vertical-align: top;\n",
       "    }\n",
       "\n",
       "    .dataframe thead th {\n",
       "        text-align: right;\n",
       "    }\n",
       "</style>\n",
       "<table border=\"1\" class=\"dataframe\">\n",
       "  <thead>\n",
       "    <tr style=\"text-align: right;\">\n",
       "      <th></th>\n",
       "      <th>Scientific Name</th>\n",
       "      <th>Common Names</th>\n",
       "      <th>Category</th>\n",
       "      <th>Park Name</th>\n",
       "      <th>Nativeness</th>\n",
       "      <th>Abundance</th>\n",
       "      <th>Conservation Status</th>\n",
       "      <th>Protected</th>\n",
       "    </tr>\n",
       "  </thead>\n",
       "  <tbody>\n",
       "    <tr>\n",
       "      <th>3</th>\n",
       "      <td>Canis Lupus</td>\n",
       "      <td>Eastern Timber Wolf, Gray Wolf, Timber Wolf</td>\n",
       "      <td>Mammal</td>\n",
       "      <td>Acadia National Park</td>\n",
       "      <td>Native</td>\n",
       "      <td>NaN</td>\n",
       "      <td>Endangered</td>\n",
       "      <td>True</td>\n",
       "    </tr>\n",
       "    <tr>\n",
       "      <th>1719</th>\n",
       "      <td>Canis Lupus</td>\n",
       "      <td>Gray Wolf</td>\n",
       "      <td>Mammal</td>\n",
       "      <td>Glacier National Park</td>\n",
       "      <td>Native</td>\n",
       "      <td>Rare</td>\n",
       "      <td>Least Concern</td>\n",
       "      <td>False</td>\n",
       "    </tr>\n",
       "    <tr>\n",
       "      <th>6984</th>\n",
       "      <td>Canis Lupus</td>\n",
       "      <td>Gray Wolf</td>\n",
       "      <td>Mammal</td>\n",
       "      <td>Great Smoky Mountains National Park</td>\n",
       "      <td>Native</td>\n",
       "      <td>NaN</td>\n",
       "      <td>Endangered</td>\n",
       "      <td>True</td>\n",
       "    </tr>\n",
       "    <tr>\n",
       "      <th>35726</th>\n",
       "      <td>Canis Lupus</td>\n",
       "      <td>Gray Wolf, Wolf</td>\n",
       "      <td>Mammal</td>\n",
       "      <td>Grand Teton National Park</td>\n",
       "      <td>Native</td>\n",
       "      <td>Uncommon</td>\n",
       "      <td>Endangered</td>\n",
       "      <td>True</td>\n",
       "    </tr>\n",
       "    <tr>\n",
       "      <th>37967</th>\n",
       "      <td>Canis Lupus</td>\n",
       "      <td>Gray Wolf, Wolf</td>\n",
       "      <td>Mammal</td>\n",
       "      <td>Indiana Dunes National Park</td>\n",
       "      <td>Native</td>\n",
       "      <td>NaN</td>\n",
       "      <td>Endangered</td>\n",
       "      <td>True</td>\n",
       "    </tr>\n",
       "    <tr>\n",
       "      <th>40455</th>\n",
       "      <td>Canis Lupus</td>\n",
       "      <td>Gray Wolf</td>\n",
       "      <td>Mammal</td>\n",
       "      <td>Rocky Mountain National Park</td>\n",
       "      <td>Native</td>\n",
       "      <td>NaN</td>\n",
       "      <td>Endangered</td>\n",
       "      <td>True</td>\n",
       "    </tr>\n",
       "    <tr>\n",
       "      <th>43656</th>\n",
       "      <td>Canis Lupus</td>\n",
       "      <td>Gray Wolf, Wolf</td>\n",
       "      <td>Mammal</td>\n",
       "      <td>Yellowstone National Park</td>\n",
       "      <td>Native</td>\n",
       "      <td>Common</td>\n",
       "      <td>Least Concern</td>\n",
       "      <td>False</td>\n",
       "    </tr>\n",
       "    <tr>\n",
       "      <th>47826</th>\n",
       "      <td>Canis Lupus</td>\n",
       "      <td>Gray Wolf, Wolf</td>\n",
       "      <td>Mammal</td>\n",
       "      <td>Yosemite National Park</td>\n",
       "      <td>Unknown</td>\n",
       "      <td>NaN</td>\n",
       "      <td>Endangered</td>\n",
       "      <td>True</td>\n",
       "    </tr>\n",
       "  </tbody>\n",
       "</table>\n",
       "</div>"
      ],
      "text/plain": [
       "      Scientific Name                                 Common Names Category  \\\n",
       "3         Canis Lupus  Eastern Timber Wolf, Gray Wolf, Timber Wolf   Mammal   \n",
       "1719      Canis Lupus                                    Gray Wolf   Mammal   \n",
       "6984      Canis Lupus                                    Gray Wolf   Mammal   \n",
       "35726     Canis Lupus                              Gray Wolf, Wolf   Mammal   \n",
       "37967     Canis Lupus                              Gray Wolf, Wolf   Mammal   \n",
       "40455     Canis Lupus                                    Gray Wolf   Mammal   \n",
       "43656     Canis Lupus                              Gray Wolf, Wolf   Mammal   \n",
       "47826     Canis Lupus                              Gray Wolf, Wolf   Mammal   \n",
       "\n",
       "                                 Park Name Nativeness Abundance  \\\n",
       "3                     Acadia National Park     Native       NaN   \n",
       "1719                 Glacier National Park     Native      Rare   \n",
       "6984   Great Smoky Mountains National Park     Native       NaN   \n",
       "35726            Grand Teton National Park     Native  Uncommon   \n",
       "37967          Indiana Dunes National Park     Native       NaN   \n",
       "40455         Rocky Mountain National Park     Native       NaN   \n",
       "43656            Yellowstone National Park     Native    Common   \n",
       "47826               Yosemite National Park    Unknown       NaN   \n",
       "\n",
       "      Conservation Status  Protected  \n",
       "3              Endangered       True  \n",
       "1719        Least Concern      False  \n",
       "6984           Endangered       True  \n",
       "35726          Endangered       True  \n",
       "37967          Endangered       True  \n",
       "40455          Endangered       True  \n",
       "43656       Least Concern      False  \n",
       "47826          Endangered       True  "
      ]
     },
     "execution_count": 14,
     "metadata": {},
     "output_type": "execute_result"
    }
   ],
   "source": [
    "species[species['Scientific Name']=='Canis Lupus']"
   ]
  },
  {
   "cell_type": "markdown",
   "metadata": {},
   "source": [
    "It looks like the gray wolf (with scientific name *Canis Lupus*) can be spotted in 8 US national parks. However, it looks like their `Abundance`, `Conservation Status`, and `Protected` status vary from park to park which can be trickier to analyze. \n",
    "\n",
    "Let's now look at the number of species per `Category` in terms of both counts and percentages."
   ]
  },
  {
   "cell_type": "code",
   "execution_count": 15,
   "metadata": {},
   "outputs": [
    {
     "name": "stdout",
     "output_type": "stream",
     "text": [
      "Bird         3161\n",
      "Mammal        794\n",
      "Fish          370\n",
      "Reptile       248\n",
      "Amphibian     177\n",
      "Name: Category, dtype: int64\n",
      "\n",
      "Bird         0.665474\n",
      "Mammal       0.167158\n",
      "Fish         0.077895\n",
      "Reptile      0.052211\n",
      "Amphibian    0.037263\n",
      "Name: Category, dtype: float64\n"
     ]
    }
   ],
   "source": [
    "print(species['Category'].value_counts())\n",
    "print()\n",
    "print(species['Category'].value_counts(normalize=True))"
   ]
  },
  {
   "cell_type": "markdown",
   "metadata": {},
   "source": [
    "It looks like the majority of species in our dataset are birds (66.5%) followed by mammals (16.7%), fishes (7.8%), reptiles (5.2%), and amphibians (3.7%). However, these number are biased because of the number of duplications due to species living in multiple national parks. \n",
    "\n",
    "Let's instead count the number of unique species by `Category`."
   ]
  },
  {
   "cell_type": "code",
   "execution_count": 16,
   "metadata": {},
   "outputs": [
    {
     "name": "stdout",
     "output_type": "stream",
     "text": [
      "    Category  Scientific Name   Percent\n",
      "0  Amphibian              124  0.079640\n",
      "1       Bird              747  0.479769\n",
      "2       Fish              231  0.148362\n",
      "3     Mammal              276  0.177264\n",
      "4    Reptile              179  0.114965\n"
     ]
    },
    {
     "data": {
      "image/png": "[encoded data removed]",
      "text/plain": [
       "<Figure size 640x480 with 1 Axes>"
      ]
     },
     "metadata": {},
     "output_type": "display_data"
    }
   ],
   "source": [
    "unique_category_counts = species.groupby('Category').agg({'Scientific Name':'nunique'}).reset_index()\n",
    "unique_category_counts['Percent'] = unique_category_counts['Scientific Name'] / species['Scientific Name'].nunique()\n",
    "print(unique_category_counts)\n",
    "\n",
    "plt.bar(unique_category_counts['Category'], unique_category_counts['Percent'], color='slategray')\n",
    "plt.title(\"Percentage of Species by Category\")\n",
    "plt.xlabel(\"Species Category\")\n",
    "plt.ylabel(\"% of the dataset\")\n",
    "plt.show()"
   ]
  },
  {
   "cell_type": "markdown",
   "metadata": {},
   "source": [
    "Interestingly, it looks like the distribution does change when we account for duplicates, but the majority of species in our dataset are again birds (48.0%) followed by mammals (17.7%), fishes (14.8%), reptiles (11.5%), and amphibians (8.0%)\n",
    "\n",
    "Let's do the same for `Conservation Status`."
   ]
  },
  {
   "cell_type": "code",
   "execution_count": 17,
   "metadata": {},
   "outputs": [
    {
     "name": "stdout",
     "output_type": "stream",
     "text": [
      "Least Concern         3367\n",
      "Species Of Concern    1304\n",
      "Endangered              31\n",
      "Threatened              29\n",
      "In Recovery             19\n",
      "Name: Conservation Status, dtype: int64\n",
      "\n",
      "Least Concern         0.708842\n",
      "Species Of Concern    0.274526\n",
      "Endangered            0.006526\n",
      "Threatened            0.006105\n",
      "In Recovery           0.004000\n",
      "Name: Conservation Status, dtype: float64\n"
     ]
    }
   ],
   "source": [
    "print(species['Conservation Status'].value_counts())\n",
    "print()\n",
    "print(species['Conservation Status'].value_counts(normalize=True))"
   ]
  },
  {
   "cell_type": "markdown",
   "metadata": {},
   "source": [
    "Again, species that appear more than once in the dataset may be skewing the counts so let's attempt to analyze conservation status based on unique species. Recall, a species' `Conservation Status` and `Protected` status *might* vary from park to park so let's choose each species' most common status using the **mode** aggregation function. \n",
    "\n",
    "That said, let's also maintain information on how often a species is protected by reporting the number of `True` values in the `Protected` column."
   ]
  },
  {
   "cell_type": "code",
   "execution_count": 18,
   "metadata": {},
   "outputs": [
    {
     "name": "stdout",
     "output_type": "stream",
     "text": [
      "Least Concern                  1220\n",
      "Species Of Concern              295\n",
      "Endangered                       21\n",
      "Threatened                       16\n",
      "In Recovery                       4\n",
      "[Endangered, Least Concern]       1\n",
      "Name: Conservation Status, dtype: int64\n",
      "\n",
      "Least Concern                  0.783558\n",
      "Species Of Concern             0.189467\n",
      "Endangered                     0.013487\n",
      "Threatened                     0.010276\n",
      "In Recovery                    0.002569\n",
      "[Endangered, Least Concern]    0.000642\n",
      "Name: Conservation Status, dtype: float64\n"
     ]
    }
   ],
   "source": [
    "unique_status = species.groupby(['Scientific Name', 'Category'])\\\n",
    "                       .agg({'Conservation Status':pd.Series.mode,'Protected':'sum'})\\\n",
    "                       .reset_index()\n",
    "\n",
    "unique_status = unique_status.rename({'Protected':'Protected Anywhere'},axis=1)\n",
    "print(unique_status['Conservation Status'].value_counts())\n",
    "print()\n",
    "print(unique_status['Conservation Status'].value_counts(normalize=True))"
   ]
  },
  {
   "cell_type": "markdown",
   "metadata": {},
   "source": [
    "Fortunately, it looks like the majority of the species are classified as Least Concern (1220 or 78.4%), meaning that most of the species are not at risk for extinction. Of course, some of these species may still be at risk in some parks, due to the mode aggregations, but these results reflect their status across all parks in our dataset. \n",
    "\n",
    "There are a large number of species that are classifed as Species of Concern (295 or 18.9%) meaning that they are facing serious risks of being threatened or endangered. There is also one species whose mode reflects a tie: `Endangered` and `Least Concern` in the same number of parks.\n",
    "\n",
    "Let's do a deeper analysis and take a look at the number of unique species for each `Category` by `Conservation Status` as well."
   ]
  },
  {
   "cell_type": "code",
   "execution_count": 19,
   "metadata": {},
   "outputs": [
    {
     "data": {
      "text/html": [
       "<div>\n",
       "<style scoped>\n",
       "    .dataframe tbody tr th:only-of-type {\n",
       "        vertical-align: middle;\n",
       "    }\n",
       "\n",
       "    .dataframe tbody tr th {\n",
       "        vertical-align: top;\n",
       "    }\n",
       "\n",
       "    .dataframe thead th {\n",
       "        text-align: right;\n",
       "    }\n",
       "</style>\n",
       "<table border=\"1\" class=\"dataframe\">\n",
       "  <thead>\n",
       "    <tr style=\"text-align: right;\">\n",
       "      <th>Conservation Status</th>\n",
       "      <th>Endangered</th>\n",
       "      <th>In Recovery</th>\n",
       "      <th>Least Concern</th>\n",
       "      <th>Species Of Concern</th>\n",
       "      <th>Threatened</th>\n",
       "    </tr>\n",
       "    <tr>\n",
       "      <th>Category</th>\n",
       "      <th></th>\n",
       "      <th></th>\n",
       "      <th></th>\n",
       "      <th></th>\n",
       "      <th></th>\n",
       "    </tr>\n",
       "  </thead>\n",
       "  <tbody>\n",
       "    <tr>\n",
       "      <th>Amphibian</th>\n",
       "      <td>2.0</td>\n",
       "      <td>NaN</td>\n",
       "      <td>117.0</td>\n",
       "      <td>3.0</td>\n",
       "      <td>2.0</td>\n",
       "    </tr>\n",
       "    <tr>\n",
       "      <th>Bird</th>\n",
       "      <td>4.0</td>\n",
       "      <td>4.0</td>\n",
       "      <td>495.0</td>\n",
       "      <td>241.0</td>\n",
       "      <td>2.0</td>\n",
       "    </tr>\n",
       "    <tr>\n",
       "      <th>Fish</th>\n",
       "      <td>7.0</td>\n",
       "      <td>NaN</td>\n",
       "      <td>209.0</td>\n",
       "      <td>8.0</td>\n",
       "      <td>7.0</td>\n",
       "    </tr>\n",
       "    <tr>\n",
       "      <th>Mammal</th>\n",
       "      <td>8.0</td>\n",
       "      <td>NaN</td>\n",
       "      <td>237.0</td>\n",
       "      <td>29.0</td>\n",
       "      <td>2.0</td>\n",
       "    </tr>\n",
       "    <tr>\n",
       "      <th>Reptile</th>\n",
       "      <td>NaN</td>\n",
       "      <td>NaN</td>\n",
       "      <td>162.0</td>\n",
       "      <td>14.0</td>\n",
       "      <td>3.0</td>\n",
       "    </tr>\n",
       "  </tbody>\n",
       "</table>\n",
       "</div>"
      ],
      "text/plain": [
       "Conservation Status  Endangered  In Recovery  Least Concern  \\\n",
       "Category                                                      \n",
       "Amphibian                   2.0          NaN          117.0   \n",
       "Bird                        4.0          4.0          495.0   \n",
       "Fish                        7.0          NaN          209.0   \n",
       "Mammal                      8.0          NaN          237.0   \n",
       "Reptile                     NaN          NaN          162.0   \n",
       "\n",
       "Conservation Status  Species Of Concern  Threatened  \n",
       "Category                                             \n",
       "Amphibian                           3.0         2.0  \n",
       "Bird                              241.0         2.0  \n",
       "Fish                                8.0         7.0  \n",
       "Mammal                             29.0         2.0  \n",
       "Reptile                            14.0         3.0  "
      ]
     },
     "execution_count": 19,
     "metadata": {},
     "output_type": "execute_result"
    }
   ],
   "source": [
    "unique_status['Conservation Status'] = unique_status['Conservation Status'].astype(str)\n",
    "\n",
    "status_by_category = unique_status.pivot_table(index='Category', \n",
    "                                                   columns='Conservation Status',\n",
    "                                                   values='Scientific Name', \n",
    "                                                   aggfunc='count')\n",
    "\n",
    "# drop the one species without a unique mode\n",
    "status_by_category = status_by_category.drop(\"['Endangered' 'Least Concern']\", axis=1)\n",
    "\n",
    "status_by_category"
   ]
  },
  {
   "cell_type": "markdown",
   "metadata": {},
   "source": [
    " Let's visualize the number of endangered species by category."
   ]
  },
  {
   "cell_type": "code",
   "execution_count": 20,
   "metadata": {},
   "outputs": [
    {
     "data": {
      "image/png": "[encoded data removed]",
      "text/plain": [
       "<Figure size 640x480 with 1 Axes>"
      ]
     },
     "metadata": {},
     "output_type": "display_data"
    }
   ],
   "source": [
    "plt.bar(status_by_category.index, status_by_category[\"Endangered\"], label=\"Endangered\", color='slategray')\n",
    "plt.title(\"Unique Number of Endangered Species by Category\")\n",
    "plt.xlabel(\"Category\")\n",
    "plt.ylabel(\"Count\")\n",
    "plt.show()"
   ]
  },
  {
   "cell_type": "markdown",
   "metadata": {},
   "source": [
    "Interestingly, although bird species make up about 48.0% of unique species in our dataset, there are more endangered mammals (8) than endangered birds (4). Recall mammals make up 17.7% of the unique species in our dataset! This initial exploration might be key to help answer one of our data questions asking if mammals are more favorited than non-mammals in their protective status. \n",
    "\n",
    "However, remember that all of this analysis is reporting aggregate status via the most common status for a species across all parks in the dataset. So let's also take a look at the `Protected` column, which we created to report the number of parks where each species is of concern."
   ]
  },
  {
   "cell_type": "code",
   "execution_count": 21,
   "metadata": {},
   "outputs": [
    {
     "data": {
      "text/html": [
       "<div>\n",
       "<style scoped>\n",
       "    .dataframe tbody tr th:only-of-type {\n",
       "        vertical-align: middle;\n",
       "    }\n",
       "\n",
       "    .dataframe tbody tr th {\n",
       "        vertical-align: top;\n",
       "    }\n",
       "\n",
       "    .dataframe thead th {\n",
       "        text-align: right;\n",
       "    }\n",
       "</style>\n",
       "<table border=\"1\" class=\"dataframe\">\n",
       "  <thead>\n",
       "    <tr style=\"text-align: right;\">\n",
       "      <th></th>\n",
       "      <th>Protected Anywhere</th>\n",
       "    </tr>\n",
       "    <tr>\n",
       "      <th>Category</th>\n",
       "      <th></th>\n",
       "    </tr>\n",
       "  </thead>\n",
       "  <tbody>\n",
       "    <tr>\n",
       "      <th>Amphibian</th>\n",
       "      <td>7</td>\n",
       "    </tr>\n",
       "    <tr>\n",
       "      <th>Bird</th>\n",
       "      <td>1187</td>\n",
       "    </tr>\n",
       "    <tr>\n",
       "      <th>Fish</th>\n",
       "      <td>31</td>\n",
       "    </tr>\n",
       "    <tr>\n",
       "      <th>Mammal</th>\n",
       "      <td>130</td>\n",
       "    </tr>\n",
       "    <tr>\n",
       "      <th>Reptile</th>\n",
       "      <td>28</td>\n",
       "    </tr>\n",
       "  </tbody>\n",
       "</table>\n",
       "</div>"
      ],
      "text/plain": [
       "           Protected Anywhere\n",
       "Category                     \n",
       "Amphibian                   7\n",
       "Bird                     1187\n",
       "Fish                       31\n",
       "Mammal                    130\n",
       "Reptile                    28"
      ]
     },
     "execution_count": 21,
     "metadata": {},
     "output_type": "execute_result"
    }
   ],
   "source": [
    "# For each category, what is the total number of species+parks with a protected status?\n",
    "unique_status.groupby('Category').agg({'Protected Anywhere':'sum'})"
   ]
  },
  {
   "cell_type": "markdown",
   "metadata": {},
   "source": [
    "Note that while reptiles only had 17 protected species in our mode aggregation, there are 28 instances where a reptile species is protected in some park, even if many of them are of least concern in the majority of parks.\n",
    "\n",
    "Finally, let's take a quick look at protected and un-protected species using the mode aggregation."
   ]
  },
  {
   "cell_type": "code",
   "execution_count": 22,
   "metadata": {},
   "outputs": [
    {
     "name": "stdout",
     "output_type": "stream",
     "text": [
      "False    1220\n",
      "True      337\n",
      "Name: Protected, dtype: int64\n",
      "\n",
      "False    0.783558\n",
      "True     0.216442\n",
      "Name: Protected, dtype: float64\n"
     ]
    }
   ],
   "source": [
    "# Re-create Protected column\n",
    "unique_status['Protected'] = unique_status['Conservation Status'] != 'Least Concern'\n",
    "\n",
    "print(unique_status['Protected'].value_counts())\n",
    "print()\n",
    "print(unique_status['Protected'].value_counts(normalize=True))"
   ]
  },
  {
   "cell_type": "code",
   "execution_count": 23,
   "metadata": {},
   "outputs": [
    {
     "data": {
      "image/png": "[encoded data removed]",
      "text/plain": [
       "<Figure size 640x480 with 1 Axes>"
      ]
     },
     "metadata": {},
     "output_type": "display_data"
    }
   ],
   "source": [
    "# Visualize protected counts\n",
    "protected_counts = unique_status['Protected'].astype(int).value_counts(normalize=True)\n",
    "plt.bar(protected_counts.index, protected_counts, color='slategray')\n",
    "plt.title(\"Protected Counts of Unique Species\")\n",
    "plt.xticks(protected_counts.index, ['False', 'True'])\n",
    "plt.show()"
   ]
  },
  {
   "cell_type": "markdown",
   "metadata": {},
   "source": [
    "Looking at the protection numbers, we see that that 1220 (or 78.4%) unique species in our dataset are not protected compared to 337 (or 21.6%) unique species that are protected. "
   ]
  },
  {
   "cell_type": "markdown",
   "metadata": {},
   "source": [
    "### Data Question #1: How does conservation status differ across national parks?\n",
    "\n",
    "Each national park boasts unique species that have adapted to their specific habitat and natural ecoystems. The impacts of changing climate as well as invasive species can cause these species to become endangered. Let's take a look at how conservation status changes across the different parks in our dataset."
   ]
  },
  {
   "cell_type": "markdown",
   "metadata": {},
   "source": [
    "Let's first take a look at the different national parks in our dataset. "
   ]
  },
  {
   "cell_type": "code",
   "execution_count": 24,
   "metadata": {},
   "outputs": [
    {
     "data": {
      "text/plain": [
       "Grand Canyon National Park             683\n",
       "Great Smoky Mountains National Park    633\n",
       "Indiana Dunes National Park            542\n",
       "Acadia National Park                   483\n",
       "Yellowstone National Park              443\n",
       "Zion National Park                     433\n",
       "Yosemite National Park                 403\n",
       "Glacier National Park                  383\n",
       "Grand Teton National Park              374\n",
       "Rocky Mountain National Park           373\n",
       "Name: Park Name, dtype: int64"
      ]
     },
     "execution_count": 24,
     "metadata": {},
     "output_type": "execute_result"
    }
   ],
   "source": [
    "species['Park Name'].value_counts()"
   ]
  },
  {
   "cell_type": "markdown",
   "metadata": {},
   "source": [
    "We see that the species in our dataset come from 10 different national parks. If you're knowledgeable in national parks, you may notice that these are the most visited annually in the US!\n",
    "\n",
    "For each national park, let's count the number of species belonging in each `Conservation Status`."
   ]
  },
  {
   "cell_type": "code",
   "execution_count": 25,
   "metadata": {},
   "outputs": [
    {
     "data": {
      "text/html": [
       "<div>\n",
       "<style scoped>\n",
       "    .dataframe tbody tr th:only-of-type {\n",
       "        vertical-align: middle;\n",
       "    }\n",
       "\n",
       "    .dataframe tbody tr th {\n",
       "        vertical-align: top;\n",
       "    }\n",
       "\n",
       "    .dataframe thead th {\n",
       "        text-align: right;\n",
       "    }\n",
       "</style>\n",
       "<table border=\"1\" class=\"dataframe\">\n",
       "  <thead>\n",
       "    <tr style=\"text-align: right;\">\n",
       "      <th></th>\n",
       "      <th>Park Name</th>\n",
       "      <th>Endangered</th>\n",
       "      <th>In Recovery</th>\n",
       "      <th>Least Concern</th>\n",
       "      <th>Species of Concern</th>\n",
       "      <th>Threatened</th>\n",
       "    </tr>\n",
       "  </thead>\n",
       "  <tbody>\n",
       "    <tr>\n",
       "      <th>0</th>\n",
       "      <td>Acadia National Park</td>\n",
       "      <td>3.0</td>\n",
       "      <td>2.0</td>\n",
       "      <td>330.0</td>\n",
       "      <td>148.0</td>\n",
       "      <td>NaN</td>\n",
       "    </tr>\n",
       "    <tr>\n",
       "      <th>1</th>\n",
       "      <td>Glacier National Park</td>\n",
       "      <td>NaN</td>\n",
       "      <td>1.0</td>\n",
       "      <td>271.0</td>\n",
       "      <td>108.0</td>\n",
       "      <td>3.0</td>\n",
       "    </tr>\n",
       "    <tr>\n",
       "      <th>2</th>\n",
       "      <td>Grand Canyon National Park</td>\n",
       "      <td>5.0</td>\n",
       "      <td>3.0</td>\n",
       "      <td>496.0</td>\n",
       "      <td>173.0</td>\n",
       "      <td>6.0</td>\n",
       "    </tr>\n",
       "    <tr>\n",
       "      <th>3</th>\n",
       "      <td>Grand Teton National Park</td>\n",
       "      <td>1.0</td>\n",
       "      <td>2.0</td>\n",
       "      <td>256.0</td>\n",
       "      <td>113.0</td>\n",
       "      <td>2.0</td>\n",
       "    </tr>\n",
       "    <tr>\n",
       "      <th>4</th>\n",
       "      <td>Great Smoky Mountains National Park</td>\n",
       "      <td>9.0</td>\n",
       "      <td>1.0</td>\n",
       "      <td>505.0</td>\n",
       "      <td>115.0</td>\n",
       "      <td>3.0</td>\n",
       "    </tr>\n",
       "    <tr>\n",
       "      <th>5</th>\n",
       "      <td>Indiana Dunes National Park</td>\n",
       "      <td>4.0</td>\n",
       "      <td>4.0</td>\n",
       "      <td>389.0</td>\n",
       "      <td>144.0</td>\n",
       "      <td>1.0</td>\n",
       "    </tr>\n",
       "    <tr>\n",
       "      <th>6</th>\n",
       "      <td>Rocky Mountain National Park</td>\n",
       "      <td>1.0</td>\n",
       "      <td>1.0</td>\n",
       "      <td>259.0</td>\n",
       "      <td>109.0</td>\n",
       "      <td>3.0</td>\n",
       "    </tr>\n",
       "    <tr>\n",
       "      <th>7</th>\n",
       "      <td>Yellowstone National Park</td>\n",
       "      <td>1.0</td>\n",
       "      <td>2.0</td>\n",
       "      <td>299.0</td>\n",
       "      <td>137.0</td>\n",
       "      <td>4.0</td>\n",
       "    </tr>\n",
       "    <tr>\n",
       "      <th>8</th>\n",
       "      <td>Yosemite National Park</td>\n",
       "      <td>5.0</td>\n",
       "      <td>2.0</td>\n",
       "      <td>273.0</td>\n",
       "      <td>119.0</td>\n",
       "      <td>4.0</td>\n",
       "    </tr>\n",
       "    <tr>\n",
       "      <th>9</th>\n",
       "      <td>Zion National Park</td>\n",
       "      <td>2.0</td>\n",
       "      <td>1.0</td>\n",
       "      <td>289.0</td>\n",
       "      <td>138.0</td>\n",
       "      <td>3.0</td>\n",
       "    </tr>\n",
       "  </tbody>\n",
       "</table>\n",
       "</div>"
      ],
      "text/plain": [
       "                             Park Name  Endangered  In Recovery  \\\n",
       "0                 Acadia National Park         3.0          2.0   \n",
       "1                Glacier National Park         NaN          1.0   \n",
       "2           Grand Canyon National Park         5.0          3.0   \n",
       "3            Grand Teton National Park         1.0          2.0   \n",
       "4  Great Smoky Mountains National Park         9.0          1.0   \n",
       "5          Indiana Dunes National Park         4.0          4.0   \n",
       "6         Rocky Mountain National Park         1.0          1.0   \n",
       "7            Yellowstone National Park         1.0          2.0   \n",
       "8               Yosemite National Park         5.0          2.0   \n",
       "9                   Zion National Park         2.0          1.0   \n",
       "\n",
       "   Least Concern  Species of Concern  Threatened  \n",
       "0          330.0               148.0         NaN  \n",
       "1          271.0               108.0         3.0  \n",
       "2          496.0               173.0         6.0  \n",
       "3          256.0               113.0         2.0  \n",
       "4          505.0               115.0         3.0  \n",
       "5          389.0               144.0         1.0  \n",
       "6          259.0               109.0         3.0  \n",
       "7          299.0               137.0         4.0  \n",
       "8          273.0               119.0         4.0  \n",
       "9          289.0               138.0         3.0  "
      ]
     },
     "execution_count": 25,
     "metadata": {},
     "output_type": "execute_result"
    }
   ],
   "source": [
    "status_by_park = species.pivot_table(index='Park Name', \n",
    "                                            columns='Conservation Status', \n",
    "                                            values='Scientific Name',\n",
    "                                            aggfunc = 'count')\n",
    "\n",
    "status_by_park.columns = ['Endangered','In Recovery','Least Concern','Species of Concern','Threatened']\n",
    "status_by_park = status_by_park.reset_index()\n",
    "status_by_park"
   ]
  },
  {
   "cell_type": "markdown",
   "metadata": {},
   "source": [
    "Interestingly, we see that Glacier National Park has no species that are currently endangered in this dataset. \n",
    "\n",
    "Let's use a visualization to compare the number of endangered species by national park. "
   ]
  },
  {
   "cell_type": "code",
   "execution_count": 26,
   "metadata": {},
   "outputs": [
    {
     "data": {
      "image/png": "[encoded data removed]",
      "text/plain": [
       "<Figure size 640x480 with 1 Axes>"
      ]
     },
     "metadata": {},
     "output_type": "display_data"
    }
   ],
   "source": [
    "plt.bar(status_by_park['Park Name'], status_by_park['Endangered'], color='slategray')\n",
    "plt.tick_params(axis='x', labelrotation=90)\n",
    "plt.show()"
   ]
  },
  {
   "cell_type": "markdown",
   "metadata": {},
   "source": [
    "Interestingly, we see that the Great Smoky Mountains National Park has the most endangered species (9), followed by the Grand Canyon and Yosemite National Parks (5), the Indiana Dunes National Park (4), Acadia National Park (3), Zion National Park (2), and lastly the Grand Teton, Rocky Mountain, and Yellowstone National Parks (1). Again, Glacier National Park has no endangered species in our dataset. \n",
    "\n",
    "Let's now take a look at the percent of species that are protected in each national park. Recall, protected species are endangered, recovering, concerned, or threatened."
   ]
  },
  {
   "cell_type": "code",
   "execution_count": 27,
   "metadata": {},
   "outputs": [
    {
     "data": {
      "text/html": [
       "<div>\n",
       "<style scoped>\n",
       "    .dataframe tbody tr th:only-of-type {\n",
       "        vertical-align: middle;\n",
       "    }\n",
       "\n",
       "    .dataframe tbody tr th {\n",
       "        vertical-align: top;\n",
       "    }\n",
       "\n",
       "    .dataframe thead th {\n",
       "        text-align: right;\n",
       "    }\n",
       "</style>\n",
       "<table border=\"1\" class=\"dataframe\">\n",
       "  <thead>\n",
       "    <tr style=\"text-align: right;\">\n",
       "      <th></th>\n",
       "      <th>Park Name</th>\n",
       "      <th>Count Protected</th>\n",
       "      <th>Percent Protected</th>\n",
       "    </tr>\n",
       "  </thead>\n",
       "  <tbody>\n",
       "    <tr>\n",
       "      <th>0</th>\n",
       "      <td>Acadia National Park</td>\n",
       "      <td>153</td>\n",
       "      <td>0.316770</td>\n",
       "    </tr>\n",
       "    <tr>\n",
       "      <th>1</th>\n",
       "      <td>Glacier National Park</td>\n",
       "      <td>112</td>\n",
       "      <td>0.292428</td>\n",
       "    </tr>\n",
       "    <tr>\n",
       "      <th>2</th>\n",
       "      <td>Grand Canyon National Park</td>\n",
       "      <td>187</td>\n",
       "      <td>0.273792</td>\n",
       "    </tr>\n",
       "    <tr>\n",
       "      <th>3</th>\n",
       "      <td>Grand Teton National Park</td>\n",
       "      <td>118</td>\n",
       "      <td>0.315508</td>\n",
       "    </tr>\n",
       "    <tr>\n",
       "      <th>4</th>\n",
       "      <td>Great Smoky Mountains National Park</td>\n",
       "      <td>128</td>\n",
       "      <td>0.202212</td>\n",
       "    </tr>\n",
       "    <tr>\n",
       "      <th>5</th>\n",
       "      <td>Indiana Dunes National Park</td>\n",
       "      <td>153</td>\n",
       "      <td>0.282288</td>\n",
       "    </tr>\n",
       "    <tr>\n",
       "      <th>6</th>\n",
       "      <td>Rocky Mountain National Park</td>\n",
       "      <td>114</td>\n",
       "      <td>0.305630</td>\n",
       "    </tr>\n",
       "    <tr>\n",
       "      <th>7</th>\n",
       "      <td>Yellowstone National Park</td>\n",
       "      <td>144</td>\n",
       "      <td>0.325056</td>\n",
       "    </tr>\n",
       "    <tr>\n",
       "      <th>8</th>\n",
       "      <td>Yosemite National Park</td>\n",
       "      <td>130</td>\n",
       "      <td>0.322581</td>\n",
       "    </tr>\n",
       "    <tr>\n",
       "      <th>9</th>\n",
       "      <td>Zion National Park</td>\n",
       "      <td>144</td>\n",
       "      <td>0.332564</td>\n",
       "    </tr>\n",
       "  </tbody>\n",
       "</table>\n",
       "</div>"
      ],
      "text/plain": [
       "                             Park Name  Count Protected  Percent Protected\n",
       "0                 Acadia National Park              153           0.316770\n",
       "1                Glacier National Park              112           0.292428\n",
       "2           Grand Canyon National Park              187           0.273792\n",
       "3            Grand Teton National Park              118           0.315508\n",
       "4  Great Smoky Mountains National Park              128           0.202212\n",
       "5          Indiana Dunes National Park              153           0.282288\n",
       "6         Rocky Mountain National Park              114           0.305630\n",
       "7            Yellowstone National Park              144           0.325056\n",
       "8               Yosemite National Park              130           0.322581\n",
       "9                   Zion National Park              144           0.332564"
      ]
     },
     "execution_count": 27,
     "metadata": {},
     "output_type": "execute_result"
    }
   ],
   "source": [
    "protected_by_park = species.groupby('Park Name').agg({'Protected': ['sum', 'mean']}).reset_index()\n",
    "protected_by_park.columns = ['Park Name', 'Count Protected', 'Percent Protected']\n",
    "protected_by_park"
   ]
  },
  {
   "cell_type": "markdown",
   "metadata": {},
   "source": [
    "Again, let's use a visualization to compare the percentage of protected species by national park."
   ]
  },
  {
   "cell_type": "code",
   "execution_count": 28,
   "metadata": {},
   "outputs": [
    {
     "data": {
      "image/png": "[encoded data removed]",
      "text/plain": [
       "<Figure size 640x480 with 1 Axes>"
      ]
     },
     "metadata": {},
     "output_type": "display_data"
    }
   ],
   "source": [
    "plt.bar(protected_by_park['Park Name'], protected_by_park['Percent Protected'], color='slategray')\n",
    "plt.tick_params(axis='x', labelrotation=90)\n",
    "plt.show()"
   ]
  },
  {
   "cell_type": "code",
   "execution_count": 29,
   "metadata": {},
   "outputs": [
    {
     "name": "stdout",
     "output_type": "stream",
     "text": [
      "Protection Statistics Across All National Parks\n",
      "Mean %: 0.29688286288771515\n",
      "Std. Dev: 0.03643463118076456\n"
     ]
    }
   ],
   "source": [
    "print(\"Protection Statistics Across All National Parks\")\n",
    "print(\"Mean %:\", np.mean(protected_by_park['Percent Protected']))\n",
    "print(\"Std. Dev:\", np.std(protected_by_park['Percent Protected']))"
   ]
  },
  {
   "cell_type": "markdown",
   "metadata": {},
   "source": [
    "The percentage of protected species across national parks had a mean of 29.7%. It looks like Great Smoky Mountains National Park is an outlier having the lowest percentage of protected species at 20.2% (more than 2.5x standard deviations lower!). Recall, we found that it also had the most number of endangered species as well. On the other hand, Glacier National Park had no endangered species, but has a higher percentage of protected species overall."
   ]
  },
  {
   "cell_type": "markdown",
   "metadata": {},
   "source": [
    "### Data Question #2: Are mammal species more likely to be protected than non-mammal species?\n",
    "\n",
    "Based on the inherent connection between humans and mammals, we might expect to find a bias toward conserving mammal species over other categories.\n",
    "\n",
    "Let's investigate the number of protected mammals and compare it to the number of protected non-mammals in our dataset. Later, we'll perform a statistical test to see if there is indeed an association between the `Category` of species and the `Protected` status.\n",
    "\n",
    "In this case, we're interested in trends across the country. We'll use the filtered DataFrame `unique_status` containing unique species where their `Protected` and `Conservation Status` were determined by their most common status (using the mode) across all national parks in our dataset."
   ]
  },
  {
   "cell_type": "code",
   "execution_count": 30,
   "metadata": {},
   "outputs": [
    {
     "data": {
      "text/html": [
       "<div>\n",
       "<style scoped>\n",
       "    .dataframe tbody tr th:only-of-type {\n",
       "        vertical-align: middle;\n",
       "    }\n",
       "\n",
       "    .dataframe tbody tr th {\n",
       "        vertical-align: top;\n",
       "    }\n",
       "\n",
       "    .dataframe thead th {\n",
       "        text-align: right;\n",
       "    }\n",
       "</style>\n",
       "<table border=\"1\" class=\"dataframe\">\n",
       "  <thead>\n",
       "    <tr style=\"text-align: right;\">\n",
       "      <th></th>\n",
       "      <th>Scientific Name</th>\n",
       "      <th>Category</th>\n",
       "      <th>Conservation Status</th>\n",
       "      <th>Protected Anywhere</th>\n",
       "      <th>Protected</th>\n",
       "    </tr>\n",
       "  </thead>\n",
       "  <tbody>\n",
       "    <tr>\n",
       "      <th>0</th>\n",
       "      <td>Acanthis Flammea</td>\n",
       "      <td>Bird</td>\n",
       "      <td>Least Concern</td>\n",
       "      <td>0</td>\n",
       "      <td>False</td>\n",
       "    </tr>\n",
       "    <tr>\n",
       "      <th>1</th>\n",
       "      <td>Acanthus Flammea</td>\n",
       "      <td>Bird</td>\n",
       "      <td>Least Concern</td>\n",
       "      <td>0</td>\n",
       "      <td>False</td>\n",
       "    </tr>\n",
       "    <tr>\n",
       "      <th>2</th>\n",
       "      <td>Accipiter Cooperii</td>\n",
       "      <td>Bird</td>\n",
       "      <td>Species Of Concern</td>\n",
       "      <td>10</td>\n",
       "      <td>True</td>\n",
       "    </tr>\n",
       "    <tr>\n",
       "      <th>3</th>\n",
       "      <td>Accipiter Gentilis</td>\n",
       "      <td>Bird</td>\n",
       "      <td>Least Concern</td>\n",
       "      <td>0</td>\n",
       "      <td>False</td>\n",
       "    </tr>\n",
       "    <tr>\n",
       "      <th>4</th>\n",
       "      <td>Accipiter Striatus</td>\n",
       "      <td>Bird</td>\n",
       "      <td>Species Of Concern</td>\n",
       "      <td>10</td>\n",
       "      <td>True</td>\n",
       "    </tr>\n",
       "  </tbody>\n",
       "</table>\n",
       "</div>"
      ],
      "text/plain": [
       "      Scientific Name Category Conservation Status  Protected Anywhere  \\\n",
       "0    Acanthis Flammea     Bird       Least Concern                   0   \n",
       "1    Acanthus Flammea     Bird       Least Concern                   0   \n",
       "2  Accipiter Cooperii     Bird  Species Of Concern                  10   \n",
       "3  Accipiter Gentilis     Bird       Least Concern                   0   \n",
       "4  Accipiter Striatus     Bird  Species Of Concern                  10   \n",
       "\n",
       "   Protected  \n",
       "0      False  \n",
       "1      False  \n",
       "2       True  \n",
       "3      False  \n",
       "4       True  "
      ]
     },
     "execution_count": 30,
     "metadata": {},
     "output_type": "execute_result"
    }
   ],
   "source": [
    "unique_status.head()"
   ]
  },
  {
   "cell_type": "code",
   "execution_count": 31,
   "metadata": {},
   "outputs": [
    {
     "data": {
      "text/html": [
       "<div>\n",
       "<style scoped>\n",
       "    .dataframe tbody tr th:only-of-type {\n",
       "        vertical-align: middle;\n",
       "    }\n",
       "\n",
       "    .dataframe tbody tr th {\n",
       "        vertical-align: top;\n",
       "    }\n",
       "\n",
       "    .dataframe thead th {\n",
       "        text-align: right;\n",
       "    }\n",
       "</style>\n",
       "<table border=\"1\" class=\"dataframe\">\n",
       "  <thead>\n",
       "    <tr style=\"text-align: right;\">\n",
       "      <th></th>\n",
       "      <th>Category</th>\n",
       "      <th>Not Protected</th>\n",
       "      <th>Protected</th>\n",
       "      <th>Percent Protected</th>\n",
       "    </tr>\n",
       "  </thead>\n",
       "  <tbody>\n",
       "    <tr>\n",
       "      <th>0</th>\n",
       "      <td>Amphibian</td>\n",
       "      <td>117</td>\n",
       "      <td>7</td>\n",
       "      <td>5.645161</td>\n",
       "    </tr>\n",
       "    <tr>\n",
       "      <th>1</th>\n",
       "      <td>Bird</td>\n",
       "      <td>495</td>\n",
       "      <td>252</td>\n",
       "      <td>33.734940</td>\n",
       "    </tr>\n",
       "    <tr>\n",
       "      <th>2</th>\n",
       "      <td>Fish</td>\n",
       "      <td>209</td>\n",
       "      <td>22</td>\n",
       "      <td>9.523810</td>\n",
       "    </tr>\n",
       "    <tr>\n",
       "      <th>3</th>\n",
       "      <td>Mammal</td>\n",
       "      <td>237</td>\n",
       "      <td>39</td>\n",
       "      <td>14.130435</td>\n",
       "    </tr>\n",
       "    <tr>\n",
       "      <th>4</th>\n",
       "      <td>Reptile</td>\n",
       "      <td>162</td>\n",
       "      <td>17</td>\n",
       "      <td>9.497207</td>\n",
       "    </tr>\n",
       "  </tbody>\n",
       "</table>\n",
       "</div>"
      ],
      "text/plain": [
       "    Category  Not Protected  Protected  Percent Protected\n",
       "0  Amphibian            117          7           5.645161\n",
       "1       Bird            495        252          33.734940\n",
       "2       Fish            209         22           9.523810\n",
       "3     Mammal            237         39          14.130435\n",
       "4    Reptile            162         17           9.497207"
      ]
     },
     "execution_count": 31,
     "metadata": {},
     "output_type": "execute_result"
    }
   ],
   "source": [
    "category_counts = unique_status.pivot_table(columns='Protected',\n",
    "                                      index='Category',\n",
    "                                      values='Scientific Name',\n",
    "                                      aggfunc='count')\n",
    "\n",
    "category_counts.columns = ['Not Protected', 'Protected']\n",
    "category_counts = category_counts.reset_index()\n",
    "\n",
    "category_counts['Percent Protected'] = category_counts['Protected'] / \\\n",
    "                                        (category_counts['Protected'] + category_counts['Not Protected']) * 100\n",
    "\n",
    "category_counts"
   ]
  },
  {
   "cell_type": "markdown",
   "metadata": {},
   "source": [
    "There are some clear discrepancies based on the percentages, specifically 33.7% of birds are protected compared to the next largest group of mammals with 14.1%. \n",
    "\n",
    "Now, let's visualize the counts of proctected and unprotected species by category."
   ]
  },
  {
   "cell_type": "code",
   "execution_count": 32,
   "metadata": {},
   "outputs": [
    {
     "data": {
      "image/png": "[encoded data removed]",
      "text/plain": [
       "<Figure size 640x480 with 1 Axes>"
      ]
     },
     "metadata": {},
     "output_type": "display_data"
    }
   ],
   "source": [
    "bar_width = 0.3\n",
    "plt.bar(category_counts.index, category_counts['Not Protected'], width=bar_width, label='Not Protected', color='slategray')\n",
    "plt.bar(category_counts.index + bar_width, category_counts['Protected'], width=bar_width, label='Protected', color='red')\n",
    "\n",
    "plt.title('Protected vs. Unprotected Counts by Species')\n",
    "plt.xlabel('Species')\n",
    "plt.ylabel('Count')\n",
    "plt.xticks(category_counts.index + bar_width / 2, category_counts['Category'].astype(str))\n",
    "plt.legend()\n",
    "plt.show()"
   ]
  },
  {
   "cell_type": "markdown",
   "metadata": {},
   "source": [
    "It certainly appears as though there might be an association between category and protectedness. However, aside from birds as a standout category with 33% protected, it is hard to tell for sure if there's a general association.\n",
    "\n",
    "Let's conduct a Chi-squared test using the **SciPy** library to see if there is an association between the `Category` and `Protected` variables.\n",
    "\n",
    "We will perform a series of statistical tests. For each test, we'll use a standard significance level threshold of 0.05. In each case, our null hypothesis is that there is no association between the categories of species and protected status."
   ]
  },
  {
   "cell_type": "code",
   "execution_count": 33,
   "metadata": {},
   "outputs": [],
   "source": [
    "# import chi-squared test from SciPy library\n",
    "from scipy.stats import chi2_contingency"
   ]
  },
  {
   "cell_type": "code",
   "execution_count": 34,
   "metadata": {},
   "outputs": [
    {
     "data": {
      "text/html": [
       "<div>\n",
       "<style scoped>\n",
       "    .dataframe tbody tr th:only-of-type {\n",
       "        vertical-align: middle;\n",
       "    }\n",
       "\n",
       "    .dataframe tbody tr th {\n",
       "        vertical-align: top;\n",
       "    }\n",
       "\n",
       "    .dataframe thead th {\n",
       "        text-align: right;\n",
       "    }\n",
       "</style>\n",
       "<table border=\"1\" class=\"dataframe\">\n",
       "  <thead>\n",
       "    <tr style=\"text-align: right;\">\n",
       "      <th>Protected</th>\n",
       "      <th>False</th>\n",
       "      <th>True</th>\n",
       "    </tr>\n",
       "    <tr>\n",
       "      <th>Category</th>\n",
       "      <th></th>\n",
       "      <th></th>\n",
       "    </tr>\n",
       "  </thead>\n",
       "  <tbody>\n",
       "    <tr>\n",
       "      <th>Amphibian</th>\n",
       "      <td>117</td>\n",
       "      <td>7</td>\n",
       "    </tr>\n",
       "    <tr>\n",
       "      <th>Bird</th>\n",
       "      <td>495</td>\n",
       "      <td>252</td>\n",
       "    </tr>\n",
       "    <tr>\n",
       "      <th>Fish</th>\n",
       "      <td>209</td>\n",
       "      <td>22</td>\n",
       "    </tr>\n",
       "    <tr>\n",
       "      <th>Mammal</th>\n",
       "      <td>237</td>\n",
       "      <td>39</td>\n",
       "    </tr>\n",
       "    <tr>\n",
       "      <th>Reptile</th>\n",
       "      <td>162</td>\n",
       "      <td>17</td>\n",
       "    </tr>\n",
       "  </tbody>\n",
       "</table>\n",
       "</div>"
      ],
      "text/plain": [
       "Protected  False  True\n",
       "Category              \n",
       "Amphibian    117     7\n",
       "Bird         495   252\n",
       "Fish         209    22\n",
       "Mammal       237    39\n",
       "Reptile      162    17"
      ]
     },
     "execution_count": 34,
     "metadata": {},
     "output_type": "execute_result"
    }
   ],
   "source": [
    "# Create contingency table using pd.crosstab()\n",
    "contingency_table = pd.crosstab(unique_status['Category'], unique_status['Protected'])\n",
    "contingency_table"
   ]
  },
  {
   "cell_type": "code",
   "execution_count": 35,
   "metadata": {},
   "outputs": [
    {
     "name": "stdout",
     "output_type": "stream",
     "text": [
      "Chi-square statistic:  127.87497939202984\n",
      "p-value:  1.1086552917070772e-26\n"
     ]
    }
   ],
   "source": [
    "# Apply chi-squared test on all categories\n",
    "chi2, pval, dof, expected = chi2_contingency(contingency_table)\n",
    "print(\"Chi-square statistic: \", chi2)\n",
    "print(\"p-value: \", pval)"
   ]
  },
  {
   "cell_type": "markdown",
   "metadata": {},
   "source": [
    "The Chi-squared test comparing the protected percentages across all categories of species resulted in a test statistic of 127.87 corresponding to a p-value of 1.11e-26 (extremely low, based on our chosen threshold of .05). This leads us to reject the null hypothesis, that there is no association between category and protected status. However, this could be impacted by one particular category (birds, for example), so we'll need to investigate individual comparisons further.\n",
    "\n",
    "In particular, let's tackle our initial data question by testing the individual associations between mammals and each non-mammal category starting with amphibians."
   ]
  },
  {
   "cell_type": "code",
   "execution_count": 36,
   "metadata": {},
   "outputs": [
    {
     "name": "stdout",
     "output_type": "stream",
     "text": [
      "Protected  False  True\n",
      "Category              \n",
      "Amphibian    117     7\n",
      "Mammal       237    39\n",
      "Chi-squared test statistic: 5.247851110300351\n",
      "P-value: 0.021973891604423347\n"
     ]
    }
   ],
   "source": [
    "category1 = 'Mammal'\n",
    "category2 = 'Amphibian'\n",
    "\n",
    "mammal_amphibian = unique_status[(unique_status['Category']== category1) | (unique_status['Category']==category2)]\n",
    "contingency_table1 = pd.crosstab(mammal_amphibian['Category'], mammal_amphibian['Protected'])\n",
    "print(contingency_table1)\n",
    "\n",
    "# Apply the chi-squared test\n",
    "chi2, pvalue, dof, expected = chi2_contingency(contingency_table1)\n",
    "\n",
    "# Print the results\n",
    "print(\"Chi-squared test statistic:\", chi2)\n",
    "print(\"P-value:\", pvalue)"
   ]
  },
  {
   "cell_type": "markdown",
   "metadata": {},
   "source": [
    "The Chi-squared test comparing the protected percentages of Mammals to Amphibians resulted in a test statistic of 5.25. This corresponds to a p-value of 0.022. This, again, leads us to reject the null hypothesis that there is no association between protected status and the categories of mammals and amphibians. In other words, statistically there is an association for these two categories and protected status."
   ]
  },
  {
   "cell_type": "markdown",
   "metadata": {},
   "source": [
    "Let's now compare the percentages of protection in Mammals to Birds."
   ]
  },
  {
   "cell_type": "code",
   "execution_count": 37,
   "metadata": {},
   "outputs": [
    {
     "name": "stdout",
     "output_type": "stream",
     "text": [
      "Protected  False  True\n",
      "Category              \n",
      "Bird         495   252\n",
      "Mammal       237    39\n",
      "Chi-squared test statistic: 37.0980365208338\n",
      "P-value: 1.1233678131046551e-09\n"
     ]
    }
   ],
   "source": [
    "category1 = 'Mammal'\n",
    "category2 = 'Bird'\n",
    "\n",
    "mammal_bird = unique_status[(unique_status['Category']== category1) | (unique_status['Category']==category2)]\n",
    "contingency_table2 = pd.crosstab(mammal_bird['Category'], mammal_bird['Protected'])\n",
    "print(contingency_table2)\n",
    "\n",
    "# Apply the chi-squared test\n",
    "chi2, pvalue, dof, expected = chi2_contingency(contingency_table2)\n",
    "\n",
    "# Print the results\n",
    "print(\"Chi-squared test statistic:\", chi2)\n",
    "print(\"P-value:\", pvalue)"
   ]
  },
  {
   "cell_type": "markdown",
   "metadata": {},
   "source": [
    "The Chi-squared test comparing the protected percentages of Mammals to Birds resulted in a test statistic of 37.10. This corresponds to a p-value of 1.12e-09 (extremely small!) Looking at the percentages, we see that 33.7% of Birds are protected compared to 14.1% of Mammals. Based on our Chi-squared test, we might conclude that there is a statistical association between protectedness and the categories Bird and Mammal."
   ]
  },
  {
   "cell_type": "markdown",
   "metadata": {},
   "source": [
    "Next, let's compare the percentages of protection in Mammals to Fish."
   ]
  },
  {
   "cell_type": "code",
   "execution_count": 38,
   "metadata": {},
   "outputs": [
    {
     "name": "stdout",
     "output_type": "stream",
     "text": [
      "Protected  False  True\n",
      "Category              \n",
      "Fish         209    22\n",
      "Mammal       237    39\n",
      "Chi-squared test statistic: 2.1048706038559013\n",
      "P-value: 0.146830763509396\n"
     ]
    }
   ],
   "source": [
    "category1 = 'Mammal'\n",
    "category2 = 'Fish'\n",
    "\n",
    "mammal_fish = unique_status[(unique_status['Category']== category1) | (unique_status['Category']==category2)]\n",
    "contingency_table3 = pd.crosstab(mammal_fish['Category'], mammal_fish['Protected'])\n",
    "print(contingency_table3)\n",
    "\n",
    "# Apply the chi-squared test\n",
    "chi2, pvalue, dof, expected = chi2_contingency(contingency_table3)\n",
    "\n",
    "# Print the results\n",
    "print(\"Chi-squared test statistic:\", chi2)\n",
    "print(\"P-value:\", pvalue)"
   ]
  },
  {
   "cell_type": "markdown",
   "metadata": {},
   "source": [
    "The Chi-squared test comparing the protected percentages of Mammals to Fish resulted in a test statistic of 2.10. This corresponds to a p-value of 0.15 which is larger than our threshold of .05, meaning we cannot reject the null hypothesis (that there is no association.)"
   ]
  },
  {
   "cell_type": "markdown",
   "metadata": {},
   "source": [
    "Lastly, let's compare the percentages of protection in Mammals to Reptiles."
   ]
  },
  {
   "cell_type": "code",
   "execution_count": 39,
   "metadata": {},
   "outputs": [
    {
     "name": "stdout",
     "output_type": "stream",
     "text": [
      "Protected  False  True\n",
      "Category              \n",
      "Mammal       237    39\n",
      "Reptile      162    17\n",
      "Chi-squared test statistic: 1.7516810801419596\n",
      "P-value: 0.18566553668410238\n"
     ]
    }
   ],
   "source": [
    "category1 = 'Mammal'\n",
    "category2 = 'Reptile'\n",
    "\n",
    "mammal_reptile = unique_status[(unique_status['Category']== category1) | (unique_status['Category']==category2)]\n",
    "contingency_table4 = pd.crosstab(mammal_reptile['Category'], mammal_reptile['Protected'])\n",
    "print(contingency_table4)\n",
    "\n",
    "# Apply the chi-squared test\n",
    "chi2, pvalue, dof, expected = chi2_contingency(contingency_table4)\n",
    "                                               \n",
    "# Print the results\n",
    "print(\"Chi-squared test statistic:\", chi2)\n",
    "print(\"P-value:\", pvalue)"
   ]
  },
  {
   "cell_type": "markdown",
   "metadata": {},
   "source": [
    "The Chi-squared test comparing the protected percentages of Mammals to Reptiles resulted in a test statistic of 1.75. This corresponds to a p-value of 0.19 which is also *not significant* meaning we cannot reject the null hypothesis (that there is no association)."
   ]
  },
  {
   "cell_type": "markdown",
   "metadata": {},
   "source": [
    "When looking at the results of statistical tests comparing the percentages of protection between Mammals and Non-Mammals, there doesn't seem to be a consistent bias favoring Mammals over Non-Mammals in terms of their protection status. Compared directly to other species, sometimes there is an association and sometimes there isn't, and when there is Mammals are not consistently favored."
   ]
  },
  {
   "cell_type": "markdown",
   "metadata": {},
   "source": [
    "### Data Question #3: Are native species more likely to be protected than non-native species?"
   ]
  },
  {
   "cell_type": "markdown",
   "metadata": {},
   "source": [
    "Next, let's investigate another potential bias and see if protection statuses favor native species over non-native species. \n",
    "\n",
    "Native species are species that have existed and co-evolved with their native natural ecosystems along with other native species. Non-native species are often referred to as alien or invasive species that have been introduced non-organically by humans or other significant events.\n"
   ]
  },
  {
   "cell_type": "markdown",
   "metadata": {},
   "source": [
    "First, let's count the number of native and non-native species using the information in the `Nativeness` column."
   ]
  },
  {
   "cell_type": "code",
   "execution_count": 40,
   "metadata": {},
   "outputs": [
    {
     "name": "stdout",
     "output_type": "stream",
     "text": [
      "Native        4138\n",
      "Non-Native     352\n",
      "Unknown        193\n",
      "Name: Nativeness, dtype: int64\n",
      "\n",
      "Native        0.883622\n",
      "Non-Native    0.075165\n",
      "Unknown       0.041213\n",
      "Name: Nativeness, dtype: float64\n"
     ]
    }
   ],
   "source": [
    "print(species['Nativeness'].value_counts())\n",
    "print()\n",
    "print(species['Nativeness'].value_counts(normalize=True))"
   ]
  },
  {
   "cell_type": "code",
   "execution_count": 41,
   "metadata": {},
   "outputs": [
    {
     "data": {
      "image/png": "[encoded data removed]",
      "text/plain": [
       "<Figure size 640x480 with 1 Axes>"
      ]
     },
     "metadata": {},
     "output_type": "display_data"
    },
    {
     "data": {
      "text/plain": [
       "Native        88.362161\n",
       "Non-Native     7.516549\n",
       "Unknown        4.121290\n",
       "Name: Nativeness, dtype: float64"
      ]
     },
     "execution_count": 41,
     "metadata": {},
     "output_type": "execute_result"
    }
   ],
   "source": [
    "nativeness_counts = species['Nativeness'].value_counts(normalize=True)\n",
    "plt.bar(nativeness_counts.index, nativeness_counts.values, color='slategray')\n",
    "plt.show()\n",
    "\n",
    "nativeness_counts * 100"
   ]
  },
  {
   "cell_type": "markdown",
   "metadata": {},
   "source": [
    "The vast majority (88.36%) of the species in our dataset are native while 7.52% are non-native (and the rest are unknown). This makes sense, since non-native species have to travel or be carried to a new location.\n",
    "\n",
    "Now, let's count the number of protected and unprotected species for native and non-native species. We'll also calculate the percentages of protection for each group.\n",
    "\n",
    "**Note:** We won't be using the aggregated counts since we some species might be native to some parks and non-native in others. "
   ]
  },
  {
   "cell_type": "code",
   "execution_count": 42,
   "metadata": {},
   "outputs": [
    {
     "data": {
      "text/html": [
       "<div>\n",
       "<style scoped>\n",
       "    .dataframe tbody tr th:only-of-type {\n",
       "        vertical-align: middle;\n",
       "    }\n",
       "\n",
       "    .dataframe tbody tr th {\n",
       "        vertical-align: top;\n",
       "    }\n",
       "\n",
       "    .dataframe thead th {\n",
       "        text-align: right;\n",
       "    }\n",
       "</style>\n",
       "<table border=\"1\" class=\"dataframe\">\n",
       "  <thead>\n",
       "    <tr style=\"text-align: right;\">\n",
       "      <th></th>\n",
       "      <th>Nativeness</th>\n",
       "      <th>Not Protected</th>\n",
       "      <th>Protected</th>\n",
       "      <th>Percent Protected</th>\n",
       "    </tr>\n",
       "  </thead>\n",
       "  <tbody>\n",
       "    <tr>\n",
       "      <th>0</th>\n",
       "      <td>Native</td>\n",
       "      <td>2875</td>\n",
       "      <td>1263</td>\n",
       "      <td>30.521991</td>\n",
       "    </tr>\n",
       "    <tr>\n",
       "      <th>1</th>\n",
       "      <td>Non-Native</td>\n",
       "      <td>290</td>\n",
       "      <td>62</td>\n",
       "      <td>17.613636</td>\n",
       "    </tr>\n",
       "    <tr>\n",
       "      <th>2</th>\n",
       "      <td>Unknown</td>\n",
       "      <td>144</td>\n",
       "      <td>49</td>\n",
       "      <td>25.388601</td>\n",
       "    </tr>\n",
       "  </tbody>\n",
       "</table>\n",
       "</div>"
      ],
      "text/plain": [
       "   Nativeness  Not Protected  Protected  Percent Protected\n",
       "0      Native           2875       1263          30.521991\n",
       "1  Non-Native            290         62          17.613636\n",
       "2     Unknown            144         49          25.388601"
      ]
     },
     "execution_count": 42,
     "metadata": {},
     "output_type": "execute_result"
    }
   ],
   "source": [
    "nativeness_protected_counts = species.pivot_table(columns='Protected',\n",
    "                                      index='Nativeness',\n",
    "                                      values='Scientific Name',\n",
    "                                      aggfunc='count')\n",
    "\n",
    "nativeness_protected_counts.columns = [ 'Not Protected', 'Protected']\n",
    "nativeness_protected_counts = nativeness_protected_counts.reset_index()\n",
    "\n",
    "nativeness_protected_counts['Percent Protected'] = nativeness_protected_counts['Protected'] / \\\n",
    "                                        (nativeness_protected_counts['Protected'] + \\\n",
    "                                         nativeness_protected_counts['Not Protected']) * 100\n",
    "\n",
    "nativeness_protected_counts"
   ]
  },
  {
   "cell_type": "markdown",
   "metadata": {},
   "source": [
    "There is a much higher number of native species than non-native species in our dataset (4138 vs. 352) and that native species also have a much higher rate of being protected (30.52% vs. 17.61%).\n",
    "\n",
    "Let's run a Chi-squared test to see if this difference is significant."
   ]
  },
  {
   "cell_type": "code",
   "execution_count": 43,
   "metadata": {},
   "outputs": [
    {
     "name": "stdout",
     "output_type": "stream",
     "text": [
      "Protected   False  True\n",
      "Nativeness             \n",
      "Native       2875  1263\n",
      "Non-Native    290    62\n",
      "Chi-squared test statistic: 25.368695667308685\n",
      "P-value: 4.735405787894386e-07\n"
     ]
    }
   ],
   "source": [
    "category1 = 'Native'\n",
    "category2 = 'Non-Native'\n",
    "\n",
    "nativeness_protected_table = species[(species['Nativeness']== category1) | (species['Nativeness']==category2)]\n",
    "contingency_table5 = pd.crosstab(nativeness_protected_table['Nativeness'], nativeness_protected_table['Protected'])\n",
    "print(contingency_table5)\n",
    "\n",
    "# Apply the chi-squared test\n",
    "chi2, pvalue, dof, expected = chi2_contingency(contingency_table5)\n",
    "                                               \n",
    "# Print the results\n",
    "print(\"Chi-squared test statistic:\", chi2)\n",
    "print(\"P-value:\", pvalue)"
   ]
  },
  {
   "cell_type": "markdown",
   "metadata": {},
   "source": [
    "The Chi-squared test resulted in a test statistic of 25.37 corresponding to a p-value of 4.74e-07. This leads us to reject the null hypothesis. In other words, this indicates that there is a statistical association between nativeness and protected status.\n",
    "\n",
    "Based on the percentages of protection between native and non-native species and the results of our Chi-squared test, we see that there does seem to be some bias favoring the protection of native species over non-native species. This makes sense because native species are often more adapted and co-evolved with their local ecosystems while non-native species are often seen as invasive that compete with the native species. Oftentimes, non-native species need to be controlled or else the natural equilibrium of the local ecosystem might be jeopardized."
   ]
  },
  {
   "cell_type": "markdown",
   "metadata": {},
   "source": [
    "### Data Question #4: Are there any abundant species that are also classified as threatened or endangered?\n",
    "\n",
    "Generally, we think of threatened species as being rarely encountered. But let's see if there are any species that are abundant (typically seen daily) but are also classified as being threatened or endangered. By investigating this possible phenomenon, we might be able to shed light on overlooked species and their conservation needs for protection. "
   ]
  },
  {
   "cell_type": "markdown",
   "metadata": {},
   "source": [
    "Let's first count the number of protected and unprotected species by their `Abundance` categorization (Abundant, Common, Occasional, Rare, Uncommon, Unknown). We won't use unique counts / aggregation of abundance categories, since species may vary in abundance across parks."
   ]
  },
  {
   "cell_type": "code",
   "execution_count": 44,
   "metadata": {},
   "outputs": [
    {
     "data": {
      "text/html": [
       "<div>\n",
       "<style scoped>\n",
       "    .dataframe tbody tr th:only-of-type {\n",
       "        vertical-align: middle;\n",
       "    }\n",
       "\n",
       "    .dataframe tbody tr th {\n",
       "        vertical-align: top;\n",
       "    }\n",
       "\n",
       "    .dataframe thead th {\n",
       "        text-align: right;\n",
       "    }\n",
       "</style>\n",
       "<table border=\"1\" class=\"dataframe\">\n",
       "  <thead>\n",
       "    <tr style=\"text-align: right;\">\n",
       "      <th></th>\n",
       "      <th>Abundance</th>\n",
       "      <th>Not Protected</th>\n",
       "      <th>Protected</th>\n",
       "      <th>Percent Protected</th>\n",
       "    </tr>\n",
       "  </thead>\n",
       "  <tbody>\n",
       "    <tr>\n",
       "      <th>0</th>\n",
       "      <td>Abundant</td>\n",
       "      <td>173</td>\n",
       "      <td>37</td>\n",
       "      <td>17.619048</td>\n",
       "    </tr>\n",
       "    <tr>\n",
       "      <th>1</th>\n",
       "      <td>Common</td>\n",
       "      <td>973</td>\n",
       "      <td>306</td>\n",
       "      <td>23.924941</td>\n",
       "    </tr>\n",
       "    <tr>\n",
       "      <th>2</th>\n",
       "      <td>Occasional</td>\n",
       "      <td>319</td>\n",
       "      <td>189</td>\n",
       "      <td>37.204724</td>\n",
       "    </tr>\n",
       "    <tr>\n",
       "      <th>3</th>\n",
       "      <td>Rare</td>\n",
       "      <td>421</td>\n",
       "      <td>238</td>\n",
       "      <td>36.115326</td>\n",
       "    </tr>\n",
       "    <tr>\n",
       "      <th>4</th>\n",
       "      <td>Uncommon</td>\n",
       "      <td>648</td>\n",
       "      <td>276</td>\n",
       "      <td>29.870130</td>\n",
       "    </tr>\n",
       "    <tr>\n",
       "      <th>5</th>\n",
       "      <td>Unknown</td>\n",
       "      <td>244</td>\n",
       "      <td>72</td>\n",
       "      <td>22.784810</td>\n",
       "    </tr>\n",
       "  </tbody>\n",
       "</table>\n",
       "</div>"
      ],
      "text/plain": [
       "    Abundance  Not Protected  Protected  Percent Protected\n",
       "0    Abundant            173         37          17.619048\n",
       "1      Common            973        306          23.924941\n",
       "2  Occasional            319        189          37.204724\n",
       "3        Rare            421        238          36.115326\n",
       "4    Uncommon            648        276          29.870130\n",
       "5     Unknown            244         72          22.784810"
      ]
     },
     "execution_count": 44,
     "metadata": {},
     "output_type": "execute_result"
    }
   ],
   "source": [
    "abundance_counts = species.pivot_table(columns='Protected',\n",
    "                                      index='Abundance',\n",
    "                                      values='Scientific Name',\n",
    "                                      aggfunc='count')\n",
    "\n",
    "abundance_counts.columns = ['Not Protected', 'Protected']\n",
    "abundance_counts=abundance_counts.reset_index()\n",
    "\n",
    "abundance_counts['Percent Protected'] = abundance_counts['Protected'] / \\\n",
    "                                        (abundance_counts['Protected'] + abundance_counts['Not Protected']) * 100\n",
    "\n",
    "abundance_counts"
   ]
  },
  {
   "cell_type": "markdown",
   "metadata": {},
   "source": [
    "As expected, we see that the percentage of protection of `Abundant` and `Common` species are the lowest (17.62% and 23.92%), and the highest in `Occasional` and `Rare` species (37.20% and 36.12%).\n",
    "\n",
    "Within these protected and abundant species, let's see if any of the species are also threatened or endangered."
   ]
  },
  {
   "cell_type": "code",
   "execution_count": 45,
   "metadata": {},
   "outputs": [
    {
     "data": {
      "text/html": [
       "<div>\n",
       "<style scoped>\n",
       "    .dataframe tbody tr th:only-of-type {\n",
       "        vertical-align: middle;\n",
       "    }\n",
       "\n",
       "    .dataframe tbody tr th {\n",
       "        vertical-align: top;\n",
       "    }\n",
       "\n",
       "    .dataframe thead th {\n",
       "        text-align: right;\n",
       "    }\n",
       "</style>\n",
       "<table border=\"1\" class=\"dataframe\">\n",
       "  <thead>\n",
       "    <tr style=\"text-align: right;\">\n",
       "      <th></th>\n",
       "      <th>Scientific Name</th>\n",
       "      <th>Common Names</th>\n",
       "      <th>Category</th>\n",
       "      <th>Park Name</th>\n",
       "      <th>Nativeness</th>\n",
       "      <th>Abundance</th>\n",
       "      <th>Conservation Status</th>\n",
       "      <th>Protected</th>\n",
       "    </tr>\n",
       "  </thead>\n",
       "  <tbody>\n",
       "    <tr>\n",
       "      <th>44082</th>\n",
       "      <td>Oncorhynchus Mykiss</td>\n",
       "      <td>Rainbow Trout</td>\n",
       "      <td>Fish</td>\n",
       "      <td>Yellowstone National Park</td>\n",
       "      <td>Non-Native</td>\n",
       "      <td>Abundant</td>\n",
       "      <td>Threatened</td>\n",
       "      <td>True</td>\n",
       "    </tr>\n",
       "  </tbody>\n",
       "</table>\n",
       "</div>"
      ],
      "text/plain": [
       "           Scientific Name   Common Names Category                  Park Name  \\\n",
       "44082  Oncorhynchus Mykiss  Rainbow Trout     Fish  Yellowstone National Park   \n",
       "\n",
       "       Nativeness Abundance Conservation Status  Protected  \n",
       "44082  Non-Native  Abundant          Threatened       True  "
      ]
     },
     "execution_count": 45,
     "metadata": {},
     "output_type": "execute_result"
    }
   ],
   "source": [
    "abundant = species['Abundance'] == 'Abundant'\n",
    "protected = (species['Conservation Status'] == 'Threatened') | (species['Conservation Status'] == 'Endangered')\n",
    "protected_abundant_species = species[abundant & protected]\n",
    "\n",
    "protected_abundant_species"
   ]
  },
  {
   "cell_type": "markdown",
   "metadata": {},
   "source": [
    "Interestingly, we find that there is a single non-native fish species in Yellowstone National Park with the scientific name Oncorhynchus Mykiss known as the Rainbow Trout, that is abundant but is threatened. Researching information on Rainbow Trout, we find that they were actually introduced into Yellowstone for sport fishing purposes. Further research shows these non-native fish are known to outcompete native trout species for food and habitat, resulting in propositions to remove Rainbow Trout in certain areas of Yellowstone.\n",
    "\n",
    "Hopefully this investigation sheds light into overlooked species that are seemingly abundant. By recognizing this paradox, we can better understand the complexities surrounding the conservation needs of threatened/endangered species to develop more effective conservation strategies in the future. "
   ]
  },
  {
   "cell_type": "code",
   "execution_count": null,
   "metadata": {},
   "outputs": [],
   "source": []
  }
 ],
 "metadata": {
  "kernelspec": {
   "display_name": "Python 3 (ipykernel)",
   "language": "python",
   "name": "python3"
  },
  "language_info": {
   "codemirror_mode": {
    "name": "ipython",
    "version": 3
   },
   "file_extension": ".py",
   "mimetype": "text/x-python",
   "name": "python",
   "nbconvert_exporter": "python",
   "pygments_lexer": "ipython3",
   "version": "3.9.12"
  }
 },
 "nbformat": 4,
 "nbformat_minor": 2
}
